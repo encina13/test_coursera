{
 "cells": [
  {
   "cell_type": "markdown",
   "metadata": {},
   "source": [
    "<center>\n",
    "    <img src=\"https://cf-courses-data.s3.us.cloud-object-storage.appdomain.cloud/IBMDeveloperSkillsNetwork-DS0105EN-SkillsNetwork/labs/Module2/images/SN_web_lightmode.png\" width=\"300\" alt=\"cognitiveclass.ai logo\">\n",
    "</center>\n"
   ]
  },
  {
   "cell_type": "markdown",
   "metadata": {},
   "source": [
    "# Cuadeno\n"
   ]
  },
  {
   "cell_type": "markdown",
   "metadata": {},
   "source": [
    "## introduction: realizamos el ejercicio de cuadernos de Jupyter"
   ]
  },
  {
   "cell_type": "markdown",
   "metadata": {},
   "source": [
    "Estos son algunos de los len\n",
    "1. **Python**: Muy popular por su simplicidad y gran cantidad de bibliotecas para análisis de datos y machine learning.\n",
    "2. **R**: Ideal para análisis estadístico y visualización de datos.\n",
    "3. **SQL**: Utilizado para gestionar y consultar bases de datos relacionales.\n",
    "4. **Java**: Conocido por su rendimiento y escalabilidad.\n",
    "5. **Julia**: Destacado por su alto rendimiento en cálculos numéricos.\n",
    "6. **Scala**: Utilizado en grandes volúmenes de datos y procesamiento distribuido.\n",
    "7. **MATLAB**: Popular en entornos académicos y de investigación.\n",
    "8. **SAS**: Utilizado en análisis avanzado y minería de datos.\n",
    "9. **C++**: Conocido por su eficiencia y control sobre el hardware.\n",
    "10. **JavaScript**: Utilizado en aplicaciones web y visualización de datos.\n",
    "11. **Lisp**: Utilizado en inteligencia artificial y procesamiento de datos."
   ]
  },
  {
   "cell_type": "markdown",
   "metadata": {},
   "source": [
    "Estas son algunas de las bibliotecas utilizadas en la ciiencia de datos:\n",
    "1. **Pandas**: Manipulación y análisis de datos.\n",
    "2. **NumPy**: Computación numérica y operaciones con matrices.\n",
    "3. **Matplotlib**: Visualización de datos en gráficos 2D.\n",
    "4. **Seaborn**: Visualización de datos basada en Matplotlib, con un enfoque en la simplicidad y la estética.\n",
    "5. **SciPy**: Algoritmos y herramientas para matemáticas, ciencia e ingeniería.\n",
    "6. **Scikit-learn**: Herramientas para machine learning y minería de datos.\n",
    "7. **TensorFlow**: Biblioteca para machine learning y redes neuronales.\n",
    "8. **Keras**: API de alto nivel para construir y entrenar modelos de deep learning.\n",
    "9. **PyTorch**: Biblioteca para machine learning y deep learning.\n",
    "10. **Statsmodels**: Modelos estadísticos y pruebas."
   ]
  },
  {
   "cell_type": "markdown",
   "metadata": {},
   "source": [
    "Tabla de herramientas:\n",
    "| Herramienta       | Descripción                                                                 |\n",
    "|-------------------|-----------------------------------------------------------------------------|\n",
    "| **Python**        | Lenguaje de programación versátil y popular en ciencia de datos.            |\n",
    "| **R**             | Lenguaje especializado en análisis estadístico y visualización de datos.    |\n",
    "| **SQL**           | Lenguaje para gestionar y consultar bases de datos relacionales.            |\n",
    "| **TensorFlow**    | Biblioteca para machine learning y redes neuronales desarrollada por Google.|\n",
    "| **PyTorch**       | Biblioteca para machine learning y deep learning desarrollada por Facebook. |\n",
    "| **Pandas**        | Biblioteca para manipulación y análisis de datos en Python.                 |\n",
    "| **NumPy**         | Biblioteca para computación numérica y operaciones con matrices en Python.  |\n",
    "| **Matplotlib**    | Biblioteca para visualización de datos en gráficos 2D en Python.            |\n",
    "| **Seaborn**       | Biblioteca para visualización de datos basada en Matplotlib.                |\n",
    "| **Scikit-learn**  | Biblioteca para machine learning y minería de datos en Python.              |\n",
    "| **Dask**          | Biblioteca para computación paralela y distribuida en Python.               |\n",
    "| **Apache Hadoop** | Marco de software para computación distribuida y escalable.                 |\n",
    "| **Spark**         | Motor de análisis de datos en tiempo real y procesamiento en memoria.       |\n",
    "| **Tableau**       | Herramienta de visualización de datos interactiva y fácil de usar.          |\n",
    "| **Power BI**      | Herramienta de análisis de negocios y visualización de datos de Microsoft.  |\n"
   ]
  },
  {
   "cell_type": "markdown",
   "metadata": {},
   "source": [
    "\n",
    "\n",
    "### Suma, la suma de dos números se puede expresar como:\n",
    "```python\n",
    "a = 5\n",
    "b = 3\n",
    "suma = a + b\n",
    "print(suma)  # Salida: 8\n"
   ]
  },
  {
   "cell_type": "code",
   "execution_count": 1,
   "metadata": {
    "tags": []
   },
   "outputs": [
    {
     "name": "stdout",
     "output_type": "stream",
     "text": [
      "17\n"
     ]
    }
   ],
   "source": [
    "#para multiplicar y sumar números.\n",
    "a = 3\n",
    "b = 4\n",
    "c = 5\n",
    "resultado = (a*b) + c\n",
    "print(resultado)\n"
   ]
  },
  {
   "cell_type": "code",
   "execution_count": 2,
   "metadata": {
    "tags": []
   },
   "outputs": [
    {
     "name": "stdout",
     "output_type": "stream",
     "text": [
      "3.3333333333333335\n"
     ]
    }
   ],
   "source": [
    "minutos = 200\n",
    "\n",
    "horas = minutos/60\n",
    "\n",
    "print(horas)"
   ]
  },
  {
   "cell_type": "code",
   "execution_count": 3,
   "metadata": {
    "tags": []
   },
   "outputs": [
    {
     "name": "stdout",
     "output_type": "stream",
     "text": [
      "- Aprender Python\n",
      "- Dominar la ciencia de datos\n",
      "- Crear visualizaciones impactantes\n",
      "- Desarrollar modelos de machine learning\n",
      "- Publicar un proyecto en GitHub\n"
     ]
    }
   ],
   "source": [
    "# Lista de objetivos\n",
    "objetivos = [\n",
    "    \"Aprender Python\",\n",
    "    \"Dominar la ciencia de datos\",\n",
    "    \"Crear visualizaciones impactantes\",\n",
    "    \"Desarrollar modelos de machine learning\",\n",
    "    \"Publicar un proyecto en GitHub\"\n",
    "]\n",
    "\n",
    "# Imprimir la lista de objetivos\n",
    "for objetivo in objetivos:\n",
    "    print(f\"- {objetivo}\")"
   ]
  },
  {
   "cell_type": "markdown",
   "metadata": {},
   "source": [
    "## Author: Angel Mediavilla"
   ]
  }
 ],
 "metadata": {
  "kernelspec": {
   "display_name": "Python",
   "language": "python",
   "name": "conda-env-python-py"
  },
  "language_info": {
   "codemirror_mode": {
    "name": "ipython",
    "version": 3
   },
   "file_extension": ".py",
   "mimetype": "text/x-python",
   "name": "python",
   "nbconvert_exporter": "python",
   "pygments_lexer": "ipython3",
   "version": "3.7.12"
  }
 },
 "nbformat": 4,
 "nbformat_minor": 4
}
